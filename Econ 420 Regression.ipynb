{
 "cells": [
  {
   "cell_type": "code",
   "execution_count": 118,
   "metadata": {},
   "outputs": [
    {
     "name": "stdout",
     "output_type": "stream",
     "text": [
      "Coefficients:\n",
      "  Fund Manager Education: 0.021688637208289018\n",
      "  Fund Manager Degree Subject: -0.017486206542430018\n",
      "  CFA: 0.005889763206495884\n",
      "  Fund Manager Experience: 0.0005215844993069036\n",
      "Regression R^2: 0.03622002305078609\n",
      "Prediction R^2: 0.05953306191059038\n",
      "Explained Variance Score: 0.05982937468995908\n",
      "MSE: 0.003647900162139356\n"
     ]
    },
    {
     "data": {
      "text/plain": [
       "<matplotlib.axes._subplots.AxesSubplot at 0x1a1d2d5a20>"
      ]
     },
     "execution_count": 118,
     "metadata": {},
     "output_type": "execute_result"
    },
    {
     "data": {
      "image/png": "[encoded data removed]",
      "text/plain": [
       "<Figure size 432x288 with 2 Axes>"
      ]
     },
     "metadata": {},
     "output_type": "display_data"
    }
   ],
   "source": [
    "import numpy as np\n",
    "import pandas as pd\n",
    "import matplotlib.pyplot as plt\n",
    "import seaborn as sns\n",
    "from sklearn.model_selection import train_test_split\n",
    "from sklearn.linear_model import LinearRegression\n",
    "from sklearn import metrics\n",
    "%matplotlib inline\n",
    "\n",
    "#reading in file\n",
    "dataset = pd.read_excel(\"/Users/jake/Desktop/Fine 547 Python.xlsx\")\n",
    "#dataset\n",
    "\n",
    "#Make X and Y\n",
    "X = dataset.iloc[:, :-1].values\n",
    "y = dataset.iloc[:, 4].values\n",
    "#X\n",
    "#y\n",
    "\n",
    "#Make training and test set\n",
    "X_train, X_test, y_train, y_test = train_test_split(X, y, test_size = 0.2, random_state = 0)\n",
    "\n",
    "#Training the regression\n",
    "reg = LinearRegression()\n",
    "reg.fit(X_train, y_train)\n",
    "\n",
    "#Predicting Test Set\n",
    "est_y = reg.predict(X_test)\n",
    "#print(est_y)\n",
    "\n",
    "#Regression coefficients\n",
    "print('Coefficients:')\n",
    "print('  Fund Manager Education:', reg.coef_[0])\n",
    "print('  Fund Manager Degree Subject:', reg.coef_[1])\n",
    "print('  CFA:', reg.coef_[2])\n",
    "print('  Fund Manager Experience:', reg.coef_[3])\n",
    "#print(reg.intercept_)\n",
    "\n",
    "#R squared\n",
    "print('Regression R^2:', reg.score(X, y, sample_weight = None))\n",
    "\n",
    "#Model prediction evaluation\n",
    "print('Prediction R^2:', metrics.r2_score(y_test, est_y))\n",
    "print('Explained Variance Score:', metrics.explained_variance_score(y_test, est_y, sample_weight = None, multioutput = 'uniform_average'))\n",
    "print('MSE:', metrics.mean_squared_error(y_test, est_y, sample_weight = None, multioutput = 'uniform_average'))\n",
    "\n",
    "#Correlation Matrix\n",
    "sns.heatmap(dataset.corr())"
   ]
  },
  {
   "cell_type": "code",
   "execution_count": 119,
   "metadata": {},
   "outputs": [
    {
     "data": {
      "image/png": "[encoded data removed]",
      "text/plain": [
       "<Figure size 432x288 with 1 Axes>"
      ]
     },
     "metadata": {},
     "output_type": "display_data"
    }
   ],
   "source": [
    "#Make box plot\n",
    "ax = sns.boxplot(x = \"deg_level\", y = \"pct_pron\", data = dataset)"
   ]
  },
  {
   "cell_type": "code",
   "execution_count": null,
   "metadata": {},
   "outputs": [],
   "source": []
  },
  {
   "cell_type": "code",
   "execution_count": null,
   "metadata": {},
   "outputs": [],
   "source": []
  },
  {
   "cell_type": "code",
   "execution_count": null,
   "metadata": {},
   "outputs": [],
   "source": []
  }
 ],
 "metadata": {
  "kernelspec": {
   "display_name": "Python 3",
   "language": "python",
   "name": "python3"
  },
  "language_info": {
   "codemirror_mode": {
    "name": "ipython",
    "version": 3
   },
   "file_extension": ".py",
   "mimetype": "text/x-python",
   "name": "python",
   "nbconvert_exporter": "python",
   "pygments_lexer": "ipython3",
   "version": "3.6.5"
  }
 },
 "nbformat": 4,
 "nbformat_minor": 2
}
